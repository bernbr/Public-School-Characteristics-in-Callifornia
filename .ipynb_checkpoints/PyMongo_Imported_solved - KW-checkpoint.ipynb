{
 "cells": [
  {
   "cell_type": "markdown",
   "id": "5bba3bd4",
   "metadata": {},
   "source": [
    "# Introduction to Mongo"
   ]
  },
  {
   "cell_type": "code",
   "execution_count": 1,
   "id": "934a92ca",
   "metadata": {},
   "outputs": [],
   "source": [
    "from pymongo import MongoClient\n",
    "from pprint import pprint\n",
    "import pandas as pd"
   ]
  },
  {
   "cell_type": "code",
   "execution_count": 2,
   "id": "2009ae08",
   "metadata": {},
   "outputs": [],
   "source": [
    "# Create an instance of MongoClient\n",
    "mongo = MongoClient(port=27017)"
   ]
  },
  {
   "cell_type": "code",
   "execution_count": 3,
   "id": "34e676fb",
   "metadata": {},
   "outputs": [
    {
     "name": "stdout",
     "output_type": "stream",
     "text": [
      "['PublicSchool2021', 'admin', 'autosaurus', 'classDB', 'config', 'epa', 'fruits_db', 'gardenDB', 'local', 'met', 'petsitly_marketing', 'travel_db', 'uk_food']\n"
     ]
    }
   ],
   "source": [
    "# confirm that our new database was created\n",
    "print(mongo.list_database_names())"
   ]
  },
  {
   "cell_type": "code",
   "execution_count": 4,
   "id": "17841940",
   "metadata": {},
   "outputs": [],
   "source": [
    "# assign the database to a variable name\n",
    "db = mongo['PublicSchool2021']"
   ]
  },
  {
   "cell_type": "code",
   "execution_count": 5,
   "id": "a888fb36",
   "metadata": {},
   "outputs": [
    {
     "name": "stdout",
     "output_type": "stream",
     "text": [
      "['characteristics']\n"
     ]
    }
   ],
   "source": [
    "# review the collections in our new database\n",
    "print(db.list_collection_names())"
   ]
  },
  {
   "cell_type": "code",
   "execution_count": 6,
   "id": "5527a8c0",
   "metadata": {},
   "outputs": [
    {
     "name": "stdout",
     "output_type": "stream",
     "text": [
      "{'_id': ObjectId('643c5eedf67032a097f54de1'), '': 0, 'Location_ID': 'Alabama', 'School_Name': 'Albertville Middle School', 'Location_Abbreviation': 'AL', 'Location_Zip': 35950, 'Virtual': 'Not Virtual', 'Elementary(PK-G5)': 0.0, 'Middle(G6-G8)': 908.0, 'High(G9-G13)': 0.0, 'Total_Free/Reduced_Lunch': 332.0, 'Total_Students': 908.0, 'Total_Teachers': 42.0, 'Charter': 'No', 'Magnet': 'No', 'Latitude': 34.2602, 'Longitude': -86.2062}\n"
     ]
    }
   ],
   "source": [
    "# review a document in the customer_list collection\n",
    "print(db.characteristics.find_one())"
   ]
  },
  {
   "cell_type": "code",
   "execution_count": 7,
   "id": "f4d514db",
   "metadata": {},
   "outputs": [],
   "source": [
    "# assign the collection to a variable\n",
    "characteristics = db['characteristics']"
   ]
  },
  {
   "cell_type": "code",
   "execution_count": 8,
   "id": "6eaebd54",
   "metadata": {},
   "outputs": [],
   "source": [
    "#Not Virtual\n",
    "# Write a match query \n",
    "match_query = {'$match': {'Virtual': 'Not Virtual'}}\n",
    "\n",
    "# Write an aggregation query that counts the number location IDs within the match query \n",
    "group_query = {'$group': {'_id': \"$Location_ID\", 'count': { '$sum': 1 }}}\n",
    "\n",
    "# Put the pipeline together\n",
    "pipeline = [match_query, group_query]\n",
    "\n",
    "#results \n",
    "NotVirtual_results = list(characteristics.aggregate(pipeline))"
   ]
  },
  {
   "cell_type": "code",
   "execution_count": 9,
   "id": "0b90e3f6",
   "metadata": {},
   "outputs": [
    {
     "name": "stdout",
     "output_type": "stream",
     "text": [
      "[{'_id': 'North Carolina', 'count': 2171},\n",
      " {'_id': 'Wyoming', 'count': 364},\n",
      " {'_id': 'Louisiana', 'count': 1344},\n",
      " {'_id': 'Mississippi', 'count': 1034},\n",
      " {'_id': 'Montana', 'count': 620},\n",
      " {'_id': 'Oregon', 'count': 819},\n",
      " {'_id': 'U.S. Virgin Islands', 'count': 1},\n",
      " {'_id': 'New Jersey', 'count': 2565},\n",
      " {'_id': 'Maine', 'count': 593},\n",
      " {'_id': 'Minnesota', 'count': 2507}]\n"
     ]
    }
   ],
   "source": [
    "#Not Virtual\n",
    "pprint(NotVirtual_results[0:10])\n"
   ]
  },
  {
   "cell_type": "code",
   "execution_count": 12,
   "id": "a4f9c33a",
   "metadata": {},
   "outputs": [
    {
     "name": "stdout",
     "output_type": "stream",
     "text": [
      "Rows in DataFrame:  43\n"
     ]
    },
    {
     "data": {
      "text/html": [
       "<div>\n",
       "<style scoped>\n",
       "    .dataframe tbody tr th:only-of-type {\n",
       "        vertical-align: middle;\n",
       "    }\n",
       "\n",
       "    .dataframe tbody tr th {\n",
       "        vertical-align: top;\n",
       "    }\n",
       "\n",
       "    .dataframe thead th {\n",
       "        text-align: right;\n",
       "    }\n",
       "</style>\n",
       "<table border=\"1\" class=\"dataframe\">\n",
       "  <thead>\n",
       "    <tr style=\"text-align: right;\">\n",
       "      <th></th>\n",
       "      <th>_id</th>\n",
       "      <th>count</th>\n",
       "    </tr>\n",
       "  </thead>\n",
       "  <tbody>\n",
       "    <tr>\n",
       "      <th>0</th>\n",
       "      <td>North Carolina</td>\n",
       "      <td>2171</td>\n",
       "    </tr>\n",
       "    <tr>\n",
       "      <th>1</th>\n",
       "      <td>Wyoming</td>\n",
       "      <td>364</td>\n",
       "    </tr>\n",
       "    <tr>\n",
       "      <th>2</th>\n",
       "      <td>Louisiana</td>\n",
       "      <td>1344</td>\n",
       "    </tr>\n",
       "    <tr>\n",
       "      <th>3</th>\n",
       "      <td>Mississippi</td>\n",
       "      <td>1034</td>\n",
       "    </tr>\n",
       "    <tr>\n",
       "      <th>4</th>\n",
       "      <td>Montana</td>\n",
       "      <td>620</td>\n",
       "    </tr>\n",
       "    <tr>\n",
       "      <th>5</th>\n",
       "      <td>Oregon</td>\n",
       "      <td>819</td>\n",
       "    </tr>\n",
       "    <tr>\n",
       "      <th>6</th>\n",
       "      <td>U.S. Virgin Islands</td>\n",
       "      <td>1</td>\n",
       "    </tr>\n",
       "    <tr>\n",
       "      <th>7</th>\n",
       "      <td>New Jersey</td>\n",
       "      <td>2565</td>\n",
       "    </tr>\n",
       "    <tr>\n",
       "      <th>8</th>\n",
       "      <td>Maine</td>\n",
       "      <td>593</td>\n",
       "    </tr>\n",
       "    <tr>\n",
       "      <th>9</th>\n",
       "      <td>Minnesota</td>\n",
       "      <td>2507</td>\n",
       "    </tr>\n",
       "  </tbody>\n",
       "</table>\n",
       "</div>"
      ],
      "text/plain": [
       "                   _id  count\n",
       "0       North Carolina   2171\n",
       "1              Wyoming    364\n",
       "2            Louisiana   1344\n",
       "3          Mississippi   1034\n",
       "4              Montana    620\n",
       "5               Oregon    819\n",
       "6  U.S. Virgin Islands      1\n",
       "7           New Jersey   2565\n",
       "8                Maine    593\n",
       "9            Minnesota   2507"
      ]
     },
     "execution_count": 12,
     "metadata": {},
     "output_type": "execute_result"
    }
   ],
   "source": [
    "# Convert mongo result to Pandas DataFrame\n",
    "NotVirtual_df = pd.DataFrame(NotVirtual_results)\n",
    "\n",
    "print(\"Rows in DataFrame: \", len(NotVirtual_df))\n",
    "NotVirtual_df.head(10)"
   ]
  },
  {
   "cell_type": "code",
   "execution_count": 33,
   "id": "ac6fbc83",
   "metadata": {},
   "outputs": [],
   "source": [
    "#Not Virtual\n",
    "# Write a match query \n",
    "PK_NV_match_query = {'$match': {'Virtual': 'Not Virtual'},\n",
    "                     'Location_ID': }\n",
    "\n",
    "# Write an aggregation query that counts the number location IDs within the match query \n",
    "PK_NV_group_query = {'$group': {'_id': 'Elementary(PK-G5)', 'sum': { '$sum' : '$characteristics.Elementary(PK-G5)'}}}\n",
    "\n",
    "# Put the pipeline together\n",
    "PK_NV_pipeline = [PK_NV_match_query, PK_NV_group_query]\n",
    "\n",
    "#results \n",
    "PK_NotVirtual_results = list(characteristics.aggregate(PK_NV_pipeline))"
   ]
  },
  {
   "cell_type": "code",
   "execution_count": 34,
   "id": "04f5589a",
   "metadata": {},
   "outputs": [
    {
     "name": "stdout",
     "output_type": "stream",
     "text": [
      "[{'_id': 'Elementary(PK-G5)', 'sum': 0}]\n"
     ]
    }
   ],
   "source": [
    "pprint(PK_NotVirtual_results[0:10])\n"
   ]
  },
  {
   "cell_type": "code",
   "execution_count": 39,
   "id": "1bbaefb5",
   "metadata": {},
   "outputs": [
    {
     "ename": "SyntaxError",
     "evalue": "invalid syntax (984141647.py, line 11)",
     "output_type": "error",
     "traceback": [
      "\u001b[1;36m  File \u001b[1;32m\"C:\\Users\\katel\\AppData\\Local\\Temp\\ipykernel_22396\\984141647.py\"\u001b[1;36m, line \u001b[1;32m11\u001b[0m\n\u001b[1;33m    pipeline = [match_query, group_query]\u001b[0m\n\u001b[1;37m    ^\u001b[0m\n\u001b[1;31mSyntaxError\u001b[0m\u001b[1;31m:\u001b[0m invalid syntax\n"
     ]
    }
   ],
   "source": [
    "#Not Virtual\n",
    "# Write a match query \n",
    "match_query = {'$match': {'Virtual': 'Not Virtual'}}\n",
    "\n",
    "\n",
    "# Write an aggregation query that counts the number location IDs within the match query \n",
    "group_query = {'$group': {'_id': \"$Location_ID\", 'count': { '$sum': 1 },\n",
    "                {'_id': \"Elementary(PK-G5)\", 'sum': { '$sum' : '$Elementary(PK-G5)'}}\n",
    "                         }}\n",
    "\n",
    "# Put the pipeline together\n",
    "pipeline = [match_query, group_query]\n",
    "\n",
    "#PK Results\n",
    "PK_NotVirtual_results = list(characteristics.aggregate(pipeline))"
   ]
  },
  {
   "cell_type": "code",
   "execution_count": 37,
   "id": "b56283d5",
   "metadata": {},
   "outputs": [
    {
     "name": "stdout",
     "output_type": "stream",
     "text": [
      "[{'_id': 'Elementary(PK-G5)', 'sum': 10812911.0}]\n"
     ]
    }
   ],
   "source": [
    "pprint(PK_NotVirtual_results[0:10])"
   ]
  },
  {
   "cell_type": "code",
   "execution_count": null,
   "id": "610ad3ea",
   "metadata": {},
   "outputs": [],
   "source": []
  }
 ],
 "metadata": {
  "kernelspec": {
   "display_name": "PythonData",
   "language": "python",
   "name": "pythondata"
  },
  "language_info": {
   "codemirror_mode": {
    "name": "ipython",
    "version": 3
   },
   "file_extension": ".py",
   "mimetype": "text/x-python",
   "name": "python",
   "nbconvert_exporter": "python",
   "pygments_lexer": "ipython3",
   "version": "3.9.13"
  }
 },
 "nbformat": 4,
 "nbformat_minor": 5
}
